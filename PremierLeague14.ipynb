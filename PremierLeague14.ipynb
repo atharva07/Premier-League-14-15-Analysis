{
 "cells": [
  {
   "cell_type": "markdown",
   "metadata": {},
   "source": [
    "# Premier League 14-15 match day stats"
   ]
  },
  {
   "cell_type": "markdown",
   "metadata": {},
   "source": [
    "##### Abbreviations of columns explained:\n",
    "##### FTHG - full time home goals \n",
    "##### FTAH - full time away goals\n",
    "##### FTR - full time result\n",
    "##### HTHG - half time home goals\n",
    "##### HTAG - half time away goals\n",
    "##### HTR - half time result\n",
    "##### HS - home team shots\n",
    "##### AS - away team shots\n",
    "##### HST - home team shots on target\n",
    "##### AST - away team shots on target\n",
    "##### HF - home team fouls\n",
    "##### AF - away team fouls\n",
    "##### HC - home team corners\n",
    "##### AC - away team corners\n",
    "##### HY - home team yellow card\n",
    "##### AY - away team yellow card\n",
    "##### HR - Home Team Red Cards\n",
    "##### AR - Away Team Red Cards"
   ]
  },
  {
   "cell_type": "code",
   "execution_count": 46,
   "metadata": {},
   "outputs": [],
   "source": [
    "import numpy as np\n",
    "import pandas as pd\n",
    "import matplotlib.pyplot as plt\n",
    "import seaborn as sns"
   ]
  },
  {
   "cell_type": "code",
   "execution_count": 3,
   "metadata": {},
   "outputs": [],
   "source": [
    "football = pd.read_csv('E0.csv')"
   ]
  },
  {
   "cell_type": "code",
   "execution_count": 4,
   "metadata": {},
   "outputs": [
    {
     "data": {
      "text/html": [
       "<div>\n",
       "<style scoped>\n",
       "    .dataframe tbody tr th:only-of-type {\n",
       "        vertical-align: middle;\n",
       "    }\n",
       "\n",
       "    .dataframe tbody tr th {\n",
       "        vertical-align: top;\n",
       "    }\n",
       "\n",
       "    .dataframe thead th {\n",
       "        text-align: right;\n",
       "    }\n",
       "</style>\n",
       "<table border=\"1\" class=\"dataframe\">\n",
       "  <thead>\n",
       "    <tr style=\"text-align: right;\">\n",
       "      <th></th>\n",
       "      <th>Div</th>\n",
       "      <th>Date</th>\n",
       "      <th>HomeTeam</th>\n",
       "      <th>AwayTeam</th>\n",
       "      <th>FTHG</th>\n",
       "      <th>FTAG</th>\n",
       "      <th>FTR</th>\n",
       "      <th>HTHG</th>\n",
       "      <th>HTAG</th>\n",
       "      <th>HTR</th>\n",
       "      <th>...</th>\n",
       "      <th>BbAv&lt;2.5</th>\n",
       "      <th>BbAH</th>\n",
       "      <th>BbAHh</th>\n",
       "      <th>BbMxAHH</th>\n",
       "      <th>BbAvAHH</th>\n",
       "      <th>BbMxAHA</th>\n",
       "      <th>BbAvAHA</th>\n",
       "      <th>PSCH</th>\n",
       "      <th>PSCD</th>\n",
       "      <th>PSCA</th>\n",
       "    </tr>\n",
       "  </thead>\n",
       "  <tbody>\n",
       "    <tr>\n",
       "      <th>0</th>\n",
       "      <td>E0</td>\n",
       "      <td>16/08/14</td>\n",
       "      <td>Arsenal</td>\n",
       "      <td>Crystal Palace</td>\n",
       "      <td>2.0</td>\n",
       "      <td>1.0</td>\n",
       "      <td>H</td>\n",
       "      <td>1.0</td>\n",
       "      <td>1.0</td>\n",
       "      <td>D</td>\n",
       "      <td>...</td>\n",
       "      <td>2.10</td>\n",
       "      <td>24.0</td>\n",
       "      <td>-1.50</td>\n",
       "      <td>1.81</td>\n",
       "      <td>1.78</td>\n",
       "      <td>2.20</td>\n",
       "      <td>2.10</td>\n",
       "      <td>1.29</td>\n",
       "      <td>5.90</td>\n",
       "      <td>12.75</td>\n",
       "    </tr>\n",
       "    <tr>\n",
       "      <th>1</th>\n",
       "      <td>E0</td>\n",
       "      <td>16/08/14</td>\n",
       "      <td>Leicester</td>\n",
       "      <td>Everton</td>\n",
       "      <td>2.0</td>\n",
       "      <td>2.0</td>\n",
       "      <td>D</td>\n",
       "      <td>1.0</td>\n",
       "      <td>2.0</td>\n",
       "      <td>A</td>\n",
       "      <td>...</td>\n",
       "      <td>1.80</td>\n",
       "      <td>22.0</td>\n",
       "      <td>0.25</td>\n",
       "      <td>1.88</td>\n",
       "      <td>1.85</td>\n",
       "      <td>2.10</td>\n",
       "      <td>2.02</td>\n",
       "      <td>3.11</td>\n",
       "      <td>3.40</td>\n",
       "      <td>2.47</td>\n",
       "    </tr>\n",
       "    <tr>\n",
       "      <th>2</th>\n",
       "      <td>E0</td>\n",
       "      <td>16/08/14</td>\n",
       "      <td>Man United</td>\n",
       "      <td>Swansea</td>\n",
       "      <td>1.0</td>\n",
       "      <td>2.0</td>\n",
       "      <td>A</td>\n",
       "      <td>0.0</td>\n",
       "      <td>1.0</td>\n",
       "      <td>A</td>\n",
       "      <td>...</td>\n",
       "      <td>2.13</td>\n",
       "      <td>25.0</td>\n",
       "      <td>-1.50</td>\n",
       "      <td>2.18</td>\n",
       "      <td>2.08</td>\n",
       "      <td>1.87</td>\n",
       "      <td>1.79</td>\n",
       "      <td>1.45</td>\n",
       "      <td>4.81</td>\n",
       "      <td>8.25</td>\n",
       "    </tr>\n",
       "    <tr>\n",
       "      <th>3</th>\n",
       "      <td>E0</td>\n",
       "      <td>16/08/14</td>\n",
       "      <td>QPR</td>\n",
       "      <td>Hull</td>\n",
       "      <td>0.0</td>\n",
       "      <td>1.0</td>\n",
       "      <td>A</td>\n",
       "      <td>0.0</td>\n",
       "      <td>0.0</td>\n",
       "      <td>D</td>\n",
       "      <td>...</td>\n",
       "      <td>1.58</td>\n",
       "      <td>24.0</td>\n",
       "      <td>0.00</td>\n",
       "      <td>1.80</td>\n",
       "      <td>1.73</td>\n",
       "      <td>2.25</td>\n",
       "      <td>2.14</td>\n",
       "      <td>2.31</td>\n",
       "      <td>3.24</td>\n",
       "      <td>3.59</td>\n",
       "    </tr>\n",
       "    <tr>\n",
       "      <th>4</th>\n",
       "      <td>E0</td>\n",
       "      <td>16/08/14</td>\n",
       "      <td>Stoke</td>\n",
       "      <td>Aston Villa</td>\n",
       "      <td>0.0</td>\n",
       "      <td>1.0</td>\n",
       "      <td>A</td>\n",
       "      <td>0.0</td>\n",
       "      <td>0.0</td>\n",
       "      <td>D</td>\n",
       "      <td>...</td>\n",
       "      <td>1.60</td>\n",
       "      <td>23.0</td>\n",
       "      <td>-0.50</td>\n",
       "      <td>1.95</td>\n",
       "      <td>1.91</td>\n",
       "      <td>2.02</td>\n",
       "      <td>1.96</td>\n",
       "      <td>2.01</td>\n",
       "      <td>3.34</td>\n",
       "      <td>4.51</td>\n",
       "    </tr>\n",
       "  </tbody>\n",
       "</table>\n",
       "<p>5 rows × 68 columns</p>\n",
       "</div>"
      ],
      "text/plain": [
       "  Div      Date    HomeTeam        AwayTeam  FTHG  FTAG FTR  HTHG  HTAG HTR  \\\n",
       "0  E0  16/08/14     Arsenal  Crystal Palace   2.0   1.0   H   1.0   1.0   D   \n",
       "1  E0  16/08/14   Leicester         Everton   2.0   2.0   D   1.0   2.0   A   \n",
       "2  E0  16/08/14  Man United         Swansea   1.0   2.0   A   0.0   1.0   A   \n",
       "3  E0  16/08/14         QPR            Hull   0.0   1.0   A   0.0   0.0   D   \n",
       "4  E0  16/08/14       Stoke     Aston Villa   0.0   1.0   A   0.0   0.0   D   \n",
       "\n",
       "   ... BbAv<2.5  BbAH  BbAHh  BbMxAHH  BbAvAHH  BbMxAHA  BbAvAHA  PSCH  PSCD  \\\n",
       "0  ...     2.10  24.0  -1.50     1.81     1.78     2.20     2.10  1.29  5.90   \n",
       "1  ...     1.80  22.0   0.25     1.88     1.85     2.10     2.02  3.11  3.40   \n",
       "2  ...     2.13  25.0  -1.50     2.18     2.08     1.87     1.79  1.45  4.81   \n",
       "3  ...     1.58  24.0   0.00     1.80     1.73     2.25     2.14  2.31  3.24   \n",
       "4  ...     1.60  23.0  -0.50     1.95     1.91     2.02     1.96  2.01  3.34   \n",
       "\n",
       "    PSCA  \n",
       "0  12.75  \n",
       "1   2.47  \n",
       "2   8.25  \n",
       "3   3.59  \n",
       "4   4.51  \n",
       "\n",
       "[5 rows x 68 columns]"
      ]
     },
     "execution_count": 4,
     "metadata": {},
     "output_type": "execute_result"
    }
   ],
   "source": [
    "# reading first five rows of dataset to understand it.\n",
    "football.head()"
   ]
  },
  {
   "cell_type": "code",
   "execution_count": 5,
   "metadata": {},
   "outputs": [
    {
     "data": {
      "text/html": [
       "<div>\n",
       "<style scoped>\n",
       "    .dataframe tbody tr th:only-of-type {\n",
       "        vertical-align: middle;\n",
       "    }\n",
       "\n",
       "    .dataframe tbody tr th {\n",
       "        vertical-align: top;\n",
       "    }\n",
       "\n",
       "    .dataframe thead th {\n",
       "        text-align: right;\n",
       "    }\n",
       "</style>\n",
       "<table border=\"1\" class=\"dataframe\">\n",
       "  <thead>\n",
       "    <tr style=\"text-align: right;\">\n",
       "      <th></th>\n",
       "      <th>FTHG</th>\n",
       "      <th>FTAG</th>\n",
       "      <th>HTHG</th>\n",
       "      <th>HTAG</th>\n",
       "      <th>HS</th>\n",
       "      <th>AS</th>\n",
       "      <th>HST</th>\n",
       "      <th>AST</th>\n",
       "      <th>HF</th>\n",
       "      <th>AF</th>\n",
       "      <th>...</th>\n",
       "      <th>BbAv&lt;2.5</th>\n",
       "      <th>BbAH</th>\n",
       "      <th>BbAHh</th>\n",
       "      <th>BbMxAHH</th>\n",
       "      <th>BbAvAHH</th>\n",
       "      <th>BbMxAHA</th>\n",
       "      <th>BbAvAHA</th>\n",
       "      <th>PSCH</th>\n",
       "      <th>PSCD</th>\n",
       "      <th>PSCA</th>\n",
       "    </tr>\n",
       "  </thead>\n",
       "  <tbody>\n",
       "    <tr>\n",
       "      <th>count</th>\n",
       "      <td>380.000000</td>\n",
       "      <td>380.000000</td>\n",
       "      <td>380.000000</td>\n",
       "      <td>380.000000</td>\n",
       "      <td>380.000000</td>\n",
       "      <td>380.000000</td>\n",
       "      <td>380.000000</td>\n",
       "      <td>380.000000</td>\n",
       "      <td>380.000000</td>\n",
       "      <td>380.000000</td>\n",
       "      <td>...</td>\n",
       "      <td>380.000000</td>\n",
       "      <td>380.000000</td>\n",
       "      <td>380.000000</td>\n",
       "      <td>380.000000</td>\n",
       "      <td>380.000000</td>\n",
       "      <td>380.000000</td>\n",
       "      <td>380.000000</td>\n",
       "      <td>380.000000</td>\n",
       "      <td>380.000000</td>\n",
       "      <td>380.000000</td>\n",
       "    </tr>\n",
       "    <tr>\n",
       "      <th>mean</th>\n",
       "      <td>1.473684</td>\n",
       "      <td>1.092105</td>\n",
       "      <td>0.728947</td>\n",
       "      <td>0.486842</td>\n",
       "      <td>14.623684</td>\n",
       "      <td>11.286842</td>\n",
       "      <td>4.723684</td>\n",
       "      <td>3.681579</td>\n",
       "      <td>11.244737</td>\n",
       "      <td>11.444737</td>\n",
       "      <td>...</td>\n",
       "      <td>1.924605</td>\n",
       "      <td>26.863158</td>\n",
       "      <td>-0.323026</td>\n",
       "      <td>1.978605</td>\n",
       "      <td>1.921842</td>\n",
       "      <td>2.014105</td>\n",
       "      <td>1.951947</td>\n",
       "      <td>2.749684</td>\n",
       "      <td>4.055605</td>\n",
       "      <td>4.804342</td>\n",
       "    </tr>\n",
       "    <tr>\n",
       "      <th>std</th>\n",
       "      <td>1.263175</td>\n",
       "      <td>1.069826</td>\n",
       "      <td>0.861185</td>\n",
       "      <td>0.706050</td>\n",
       "      <td>5.519260</td>\n",
       "      <td>4.594288</td>\n",
       "      <td>2.496429</td>\n",
       "      <td>2.042084</td>\n",
       "      <td>3.347208</td>\n",
       "      <td>3.525197</td>\n",
       "      <td>...</td>\n",
       "      <td>0.268800</td>\n",
       "      <td>2.427244</td>\n",
       "      <td>0.783295</td>\n",
       "      <td>0.138140</td>\n",
       "      <td>0.129290</td>\n",
       "      <td>0.151468</td>\n",
       "      <td>0.137349</td>\n",
       "      <td>1.607906</td>\n",
       "      <td>1.010234</td>\n",
       "      <td>3.570114</td>\n",
       "    </tr>\n",
       "    <tr>\n",
       "      <th>min</th>\n",
       "      <td>0.000000</td>\n",
       "      <td>0.000000</td>\n",
       "      <td>0.000000</td>\n",
       "      <td>0.000000</td>\n",
       "      <td>3.000000</td>\n",
       "      <td>1.000000</td>\n",
       "      <td>0.000000</td>\n",
       "      <td>0.000000</td>\n",
       "      <td>3.000000</td>\n",
       "      <td>1.000000</td>\n",
       "      <td>...</td>\n",
       "      <td>1.470000</td>\n",
       "      <td>12.000000</td>\n",
       "      <td>-2.000000</td>\n",
       "      <td>1.650000</td>\n",
       "      <td>1.590000</td>\n",
       "      <td>1.630000</td>\n",
       "      <td>1.570000</td>\n",
       "      <td>1.160000</td>\n",
       "      <td>3.080000</td>\n",
       "      <td>1.380000</td>\n",
       "    </tr>\n",
       "    <tr>\n",
       "      <th>25%</th>\n",
       "      <td>1.000000</td>\n",
       "      <td>0.000000</td>\n",
       "      <td>0.000000</td>\n",
       "      <td>0.000000</td>\n",
       "      <td>11.000000</td>\n",
       "      <td>8.000000</td>\n",
       "      <td>3.000000</td>\n",
       "      <td>2.000000</td>\n",
       "      <td>9.000000</td>\n",
       "      <td>9.000000</td>\n",
       "      <td>...</td>\n",
       "      <td>1.730000</td>\n",
       "      <td>25.000000</td>\n",
       "      <td>-0.750000</td>\n",
       "      <td>1.880000</td>\n",
       "      <td>1.830000</td>\n",
       "      <td>1.900000</td>\n",
       "      <td>1.850000</td>\n",
       "      <td>1.687500</td>\n",
       "      <td>3.390000</td>\n",
       "      <td>2.460000</td>\n",
       "    </tr>\n",
       "    <tr>\n",
       "      <th>50%</th>\n",
       "      <td>1.000000</td>\n",
       "      <td>1.000000</td>\n",
       "      <td>1.000000</td>\n",
       "      <td>0.000000</td>\n",
       "      <td>14.000000</td>\n",
       "      <td>11.000000</td>\n",
       "      <td>4.000000</td>\n",
       "      <td>3.000000</td>\n",
       "      <td>11.000000</td>\n",
       "      <td>11.000000</td>\n",
       "      <td>...</td>\n",
       "      <td>1.870000</td>\n",
       "      <td>27.000000</td>\n",
       "      <td>-0.250000</td>\n",
       "      <td>1.970000</td>\n",
       "      <td>1.920000</td>\n",
       "      <td>2.000000</td>\n",
       "      <td>1.950000</td>\n",
       "      <td>2.220000</td>\n",
       "      <td>3.670000</td>\n",
       "      <td>3.585000</td>\n",
       "    </tr>\n",
       "    <tr>\n",
       "      <th>75%</th>\n",
       "      <td>2.000000</td>\n",
       "      <td>2.000000</td>\n",
       "      <td>1.000000</td>\n",
       "      <td>1.000000</td>\n",
       "      <td>18.000000</td>\n",
       "      <td>14.000000</td>\n",
       "      <td>6.000000</td>\n",
       "      <td>5.000000</td>\n",
       "      <td>13.000000</td>\n",
       "      <td>14.000000</td>\n",
       "      <td>...</td>\n",
       "      <td>2.090000</td>\n",
       "      <td>28.000000</td>\n",
       "      <td>0.250000</td>\n",
       "      <td>2.080000</td>\n",
       "      <td>2.020000</td>\n",
       "      <td>2.100000</td>\n",
       "      <td>2.040000</td>\n",
       "      <td>3.132500</td>\n",
       "      <td>4.325000</td>\n",
       "      <td>5.542500</td>\n",
       "    </tr>\n",
       "    <tr>\n",
       "      <th>max</th>\n",
       "      <td>8.000000</td>\n",
       "      <td>6.000000</td>\n",
       "      <td>5.000000</td>\n",
       "      <td>4.000000</td>\n",
       "      <td>43.000000</td>\n",
       "      <td>27.000000</td>\n",
       "      <td>16.000000</td>\n",
       "      <td>11.000000</td>\n",
       "      <td>23.000000</td>\n",
       "      <td>22.000000</td>\n",
       "      <td>...</td>\n",
       "      <td>3.080000</td>\n",
       "      <td>32.000000</td>\n",
       "      <td>1.500000</td>\n",
       "      <td>2.550000</td>\n",
       "      <td>2.460000</td>\n",
       "      <td>2.800000</td>\n",
       "      <td>2.690000</td>\n",
       "      <td>9.500000</td>\n",
       "      <td>8.720000</td>\n",
       "      <td>22.000000</td>\n",
       "    </tr>\n",
       "  </tbody>\n",
       "</table>\n",
       "<p>8 rows × 61 columns</p>\n",
       "</div>"
      ],
      "text/plain": [
       "             FTHG        FTAG        HTHG        HTAG          HS          AS  \\\n",
       "count  380.000000  380.000000  380.000000  380.000000  380.000000  380.000000   \n",
       "mean     1.473684    1.092105    0.728947    0.486842   14.623684   11.286842   \n",
       "std      1.263175    1.069826    0.861185    0.706050    5.519260    4.594288   \n",
       "min      0.000000    0.000000    0.000000    0.000000    3.000000    1.000000   \n",
       "25%      1.000000    0.000000    0.000000    0.000000   11.000000    8.000000   \n",
       "50%      1.000000    1.000000    1.000000    0.000000   14.000000   11.000000   \n",
       "75%      2.000000    2.000000    1.000000    1.000000   18.000000   14.000000   \n",
       "max      8.000000    6.000000    5.000000    4.000000   43.000000   27.000000   \n",
       "\n",
       "              HST         AST          HF          AF  ...    BbAv<2.5  \\\n",
       "count  380.000000  380.000000  380.000000  380.000000  ...  380.000000   \n",
       "mean     4.723684    3.681579   11.244737   11.444737  ...    1.924605   \n",
       "std      2.496429    2.042084    3.347208    3.525197  ...    0.268800   \n",
       "min      0.000000    0.000000    3.000000    1.000000  ...    1.470000   \n",
       "25%      3.000000    2.000000    9.000000    9.000000  ...    1.730000   \n",
       "50%      4.000000    3.000000   11.000000   11.000000  ...    1.870000   \n",
       "75%      6.000000    5.000000   13.000000   14.000000  ...    2.090000   \n",
       "max     16.000000   11.000000   23.000000   22.000000  ...    3.080000   \n",
       "\n",
       "             BbAH       BbAHh     BbMxAHH     BbAvAHH     BbMxAHA     BbAvAHA  \\\n",
       "count  380.000000  380.000000  380.000000  380.000000  380.000000  380.000000   \n",
       "mean    26.863158   -0.323026    1.978605    1.921842    2.014105    1.951947   \n",
       "std      2.427244    0.783295    0.138140    0.129290    0.151468    0.137349   \n",
       "min     12.000000   -2.000000    1.650000    1.590000    1.630000    1.570000   \n",
       "25%     25.000000   -0.750000    1.880000    1.830000    1.900000    1.850000   \n",
       "50%     27.000000   -0.250000    1.970000    1.920000    2.000000    1.950000   \n",
       "75%     28.000000    0.250000    2.080000    2.020000    2.100000    2.040000   \n",
       "max     32.000000    1.500000    2.550000    2.460000    2.800000    2.690000   \n",
       "\n",
       "             PSCH        PSCD        PSCA  \n",
       "count  380.000000  380.000000  380.000000  \n",
       "mean     2.749684    4.055605    4.804342  \n",
       "std      1.607906    1.010234    3.570114  \n",
       "min      1.160000    3.080000    1.380000  \n",
       "25%      1.687500    3.390000    2.460000  \n",
       "50%      2.220000    3.670000    3.585000  \n",
       "75%      3.132500    4.325000    5.542500  \n",
       "max      9.500000    8.720000   22.000000  \n",
       "\n",
       "[8 rows x 61 columns]"
      ]
     },
     "execution_count": 5,
     "metadata": {},
     "output_type": "execute_result"
    }
   ],
   "source": [
    "football.describe()"
   ]
  },
  {
   "cell_type": "code",
   "execution_count": 6,
   "metadata": {},
   "outputs": [
    {
     "name": "stdout",
     "output_type": "stream",
     "text": [
      "<class 'pandas.core.frame.DataFrame'>\n",
      "RangeIndex: 381 entries, 0 to 380\n",
      "Data columns (total 68 columns):\n",
      " #   Column    Non-Null Count  Dtype  \n",
      "---  ------    --------------  -----  \n",
      " 0   Div       380 non-null    object \n",
      " 1   Date      380 non-null    object \n",
      " 2   HomeTeam  380 non-null    object \n",
      " 3   AwayTeam  380 non-null    object \n",
      " 4   FTHG      380 non-null    float64\n",
      " 5   FTAG      380 non-null    float64\n",
      " 6   FTR       380 non-null    object \n",
      " 7   HTHG      380 non-null    float64\n",
      " 8   HTAG      380 non-null    float64\n",
      " 9   HTR       380 non-null    object \n",
      " 10  Referee   380 non-null    object \n",
      " 11  HS        380 non-null    float64\n",
      " 12  AS        380 non-null    float64\n",
      " 13  HST       380 non-null    float64\n",
      " 14  AST       380 non-null    float64\n",
      " 15  HF        380 non-null    float64\n",
      " 16  AF        380 non-null    float64\n",
      " 17  HC        380 non-null    float64\n",
      " 18  AC        380 non-null    float64\n",
      " 19  HY        380 non-null    float64\n",
      " 20  AY        380 non-null    float64\n",
      " 21  HR        380 non-null    float64\n",
      " 22  AR        380 non-null    float64\n",
      " 23  B365H     380 non-null    float64\n",
      " 24  B365D     380 non-null    float64\n",
      " 25  B365A     380 non-null    float64\n",
      " 26  BWH       380 non-null    float64\n",
      " 27  BWD       380 non-null    float64\n",
      " 28  BWA       380 non-null    float64\n",
      " 29  IWH       379 non-null    float64\n",
      " 30  IWD       379 non-null    float64\n",
      " 31  IWA       379 non-null    float64\n",
      " 32  LBH       380 non-null    float64\n",
      " 33  LBD       380 non-null    float64\n",
      " 34  LBA       380 non-null    float64\n",
      " 35  PSH       380 non-null    float64\n",
      " 36  PSD       380 non-null    float64\n",
      " 37  PSA       380 non-null    float64\n",
      " 38  WHH       380 non-null    float64\n",
      " 39  WHD       380 non-null    float64\n",
      " 40  WHA       380 non-null    float64\n",
      " 41  SJH       40 non-null     float64\n",
      " 42  SJD       40 non-null     float64\n",
      " 43  SJA       40 non-null     float64\n",
      " 44  VCH       380 non-null    float64\n",
      " 45  VCD       380 non-null    float64\n",
      " 46  VCA       380 non-null    float64\n",
      " 47  Bb1X2     380 non-null    float64\n",
      " 48  BbMxH     380 non-null    float64\n",
      " 49  BbAvH     380 non-null    float64\n",
      " 50  BbMxD     380 non-null    float64\n",
      " 51  BbAvD     380 non-null    float64\n",
      " 52  BbMxA     380 non-null    float64\n",
      " 53  BbAvA     380 non-null    float64\n",
      " 54  BbOU      380 non-null    float64\n",
      " 55  BbMx>2.5  380 non-null    float64\n",
      " 56  BbAv>2.5  380 non-null    float64\n",
      " 57  BbMx<2.5  380 non-null    float64\n",
      " 58  BbAv<2.5  380 non-null    float64\n",
      " 59  BbAH      380 non-null    float64\n",
      " 60  BbAHh     380 non-null    float64\n",
      " 61  BbMxAHH   380 non-null    float64\n",
      " 62  BbAvAHH   380 non-null    float64\n",
      " 63  BbMxAHA   380 non-null    float64\n",
      " 64  BbAvAHA   380 non-null    float64\n",
      " 65  PSCH      380 non-null    float64\n",
      " 66  PSCD      380 non-null    float64\n",
      " 67  PSCA      380 non-null    float64\n",
      "dtypes: float64(61), object(7)\n",
      "memory usage: 202.5+ KB\n"
     ]
    }
   ],
   "source": [
    "# basic information about dataset\n",
    "football.info()"
   ]
  },
  {
   "cell_type": "code",
   "execution_count": 37,
   "metadata": {},
   "outputs": [],
   "source": [
    "# deleting 'Div'column from dataset\n",
    "football_new = football.drop(['Div','B365H','B365D','B365A','BWH','BWD','BWA','IWH','IWD','IWA','LBH','LBD','LBA','PSH','PSD',\n",
    "                              'PSA','WHH','WHD','WHA','SJH','SJD','SJA','VCH','VCD','VCA','Bb1X2','BbMxH','BbAvH',\n",
    "                              'BbMxD','BbAvD','BbMxA','PSCH','PSCD','PSCA','BbAvAHA','BbMxAHA','BbAvAHH','BbMxAHH','BbAHh',\n",
    "                              'BbAH','BbAv<2.5','BbMx<2.5','BbAv>2.5','BbMx>2.5','BbOU','BbAvA'], axis = 1)"
   ]
  },
  {
   "cell_type": "code",
   "execution_count": 38,
   "metadata": {},
   "outputs": [
    {
     "data": {
      "text/html": [
       "<div>\n",
       "<style scoped>\n",
       "    .dataframe tbody tr th:only-of-type {\n",
       "        vertical-align: middle;\n",
       "    }\n",
       "\n",
       "    .dataframe tbody tr th {\n",
       "        vertical-align: top;\n",
       "    }\n",
       "\n",
       "    .dataframe thead th {\n",
       "        text-align: right;\n",
       "    }\n",
       "</style>\n",
       "<table border=\"1\" class=\"dataframe\">\n",
       "  <thead>\n",
       "    <tr style=\"text-align: right;\">\n",
       "      <th></th>\n",
       "      <th>Date</th>\n",
       "      <th>HomeTeam</th>\n",
       "      <th>AwayTeam</th>\n",
       "      <th>FTHG</th>\n",
       "      <th>FTAG</th>\n",
       "      <th>FTR</th>\n",
       "      <th>HTHG</th>\n",
       "      <th>HTAG</th>\n",
       "      <th>HTR</th>\n",
       "      <th>Referee</th>\n",
       "      <th>...</th>\n",
       "      <th>HST</th>\n",
       "      <th>AST</th>\n",
       "      <th>HF</th>\n",
       "      <th>AF</th>\n",
       "      <th>HC</th>\n",
       "      <th>AC</th>\n",
       "      <th>HY</th>\n",
       "      <th>AY</th>\n",
       "      <th>HR</th>\n",
       "      <th>AR</th>\n",
       "    </tr>\n",
       "  </thead>\n",
       "  <tbody>\n",
       "    <tr>\n",
       "      <th>0</th>\n",
       "      <td>16/08/14</td>\n",
       "      <td>Arsenal</td>\n",
       "      <td>Crystal Palace</td>\n",
       "      <td>2.0</td>\n",
       "      <td>1.0</td>\n",
       "      <td>H</td>\n",
       "      <td>1.0</td>\n",
       "      <td>1.0</td>\n",
       "      <td>D</td>\n",
       "      <td>J Moss</td>\n",
       "      <td>...</td>\n",
       "      <td>6.0</td>\n",
       "      <td>2.0</td>\n",
       "      <td>13.0</td>\n",
       "      <td>19.0</td>\n",
       "      <td>9.0</td>\n",
       "      <td>3.0</td>\n",
       "      <td>2.0</td>\n",
       "      <td>2.0</td>\n",
       "      <td>0.0</td>\n",
       "      <td>1.0</td>\n",
       "    </tr>\n",
       "    <tr>\n",
       "      <th>1</th>\n",
       "      <td>16/08/14</td>\n",
       "      <td>Leicester</td>\n",
       "      <td>Everton</td>\n",
       "      <td>2.0</td>\n",
       "      <td>2.0</td>\n",
       "      <td>D</td>\n",
       "      <td>1.0</td>\n",
       "      <td>2.0</td>\n",
       "      <td>A</td>\n",
       "      <td>M Jones</td>\n",
       "      <td>...</td>\n",
       "      <td>3.0</td>\n",
       "      <td>3.0</td>\n",
       "      <td>16.0</td>\n",
       "      <td>10.0</td>\n",
       "      <td>3.0</td>\n",
       "      <td>6.0</td>\n",
       "      <td>1.0</td>\n",
       "      <td>1.0</td>\n",
       "      <td>0.0</td>\n",
       "      <td>0.0</td>\n",
       "    </tr>\n",
       "    <tr>\n",
       "      <th>2</th>\n",
       "      <td>16/08/14</td>\n",
       "      <td>Man United</td>\n",
       "      <td>Swansea</td>\n",
       "      <td>1.0</td>\n",
       "      <td>2.0</td>\n",
       "      <td>A</td>\n",
       "      <td>0.0</td>\n",
       "      <td>1.0</td>\n",
       "      <td>A</td>\n",
       "      <td>M Dean</td>\n",
       "      <td>...</td>\n",
       "      <td>5.0</td>\n",
       "      <td>4.0</td>\n",
       "      <td>14.0</td>\n",
       "      <td>20.0</td>\n",
       "      <td>4.0</td>\n",
       "      <td>0.0</td>\n",
       "      <td>2.0</td>\n",
       "      <td>4.0</td>\n",
       "      <td>0.0</td>\n",
       "      <td>0.0</td>\n",
       "    </tr>\n",
       "    <tr>\n",
       "      <th>3</th>\n",
       "      <td>16/08/14</td>\n",
       "      <td>QPR</td>\n",
       "      <td>Hull</td>\n",
       "      <td>0.0</td>\n",
       "      <td>1.0</td>\n",
       "      <td>A</td>\n",
       "      <td>0.0</td>\n",
       "      <td>0.0</td>\n",
       "      <td>D</td>\n",
       "      <td>C Pawson</td>\n",
       "      <td>...</td>\n",
       "      <td>6.0</td>\n",
       "      <td>4.0</td>\n",
       "      <td>10.0</td>\n",
       "      <td>10.0</td>\n",
       "      <td>8.0</td>\n",
       "      <td>9.0</td>\n",
       "      <td>1.0</td>\n",
       "      <td>2.0</td>\n",
       "      <td>0.0</td>\n",
       "      <td>0.0</td>\n",
       "    </tr>\n",
       "    <tr>\n",
       "      <th>4</th>\n",
       "      <td>16/08/14</td>\n",
       "      <td>Stoke</td>\n",
       "      <td>Aston Villa</td>\n",
       "      <td>0.0</td>\n",
       "      <td>1.0</td>\n",
       "      <td>A</td>\n",
       "      <td>0.0</td>\n",
       "      <td>0.0</td>\n",
       "      <td>D</td>\n",
       "      <td>A Taylor</td>\n",
       "      <td>...</td>\n",
       "      <td>2.0</td>\n",
       "      <td>2.0</td>\n",
       "      <td>14.0</td>\n",
       "      <td>9.0</td>\n",
       "      <td>2.0</td>\n",
       "      <td>8.0</td>\n",
       "      <td>0.0</td>\n",
       "      <td>3.0</td>\n",
       "      <td>0.0</td>\n",
       "      <td>0.0</td>\n",
       "    </tr>\n",
       "  </tbody>\n",
       "</table>\n",
       "<p>5 rows × 22 columns</p>\n",
       "</div>"
      ],
      "text/plain": [
       "       Date    HomeTeam        AwayTeam  FTHG  FTAG FTR  HTHG  HTAG HTR  \\\n",
       "0  16/08/14     Arsenal  Crystal Palace   2.0   1.0   H   1.0   1.0   D   \n",
       "1  16/08/14   Leicester         Everton   2.0   2.0   D   1.0   2.0   A   \n",
       "2  16/08/14  Man United         Swansea   1.0   2.0   A   0.0   1.0   A   \n",
       "3  16/08/14         QPR            Hull   0.0   1.0   A   0.0   0.0   D   \n",
       "4  16/08/14       Stoke     Aston Villa   0.0   1.0   A   0.0   0.0   D   \n",
       "\n",
       "    Referee  ...  HST  AST    HF    AF   HC   AC   HY   AY   HR   AR  \n",
       "0    J Moss  ...  6.0  2.0  13.0  19.0  9.0  3.0  2.0  2.0  0.0  1.0  \n",
       "1   M Jones  ...  3.0  3.0  16.0  10.0  3.0  6.0  1.0  1.0  0.0  0.0  \n",
       "2    M Dean  ...  5.0  4.0  14.0  20.0  4.0  0.0  2.0  4.0  0.0  0.0  \n",
       "3  C Pawson  ...  6.0  4.0  10.0  10.0  8.0  9.0  1.0  2.0  0.0  0.0  \n",
       "4  A Taylor  ...  2.0  2.0  14.0   9.0  2.0  8.0  0.0  3.0  0.0  0.0  \n",
       "\n",
       "[5 rows x 22 columns]"
      ]
     },
     "execution_count": 38,
     "metadata": {},
     "output_type": "execute_result"
    }
   ],
   "source": [
    "football_new.head()"
   ]
  },
  {
   "cell_type": "code",
   "execution_count": 39,
   "metadata": {},
   "outputs": [
    {
     "name": "stdout",
     "output_type": "stream",
     "text": [
      "<class 'pandas.core.frame.DataFrame'>\n",
      "RangeIndex: 381 entries, 0 to 380\n",
      "Data columns (total 22 columns):\n",
      " #   Column    Non-Null Count  Dtype  \n",
      "---  ------    --------------  -----  \n",
      " 0   Date      380 non-null    object \n",
      " 1   HomeTeam  380 non-null    object \n",
      " 2   AwayTeam  380 non-null    object \n",
      " 3   FTHG      380 non-null    float64\n",
      " 4   FTAG      380 non-null    float64\n",
      " 5   FTR       380 non-null    object \n",
      " 6   HTHG      380 non-null    float64\n",
      " 7   HTAG      380 non-null    float64\n",
      " 8   HTR       380 non-null    object \n",
      " 9   Referee   380 non-null    object \n",
      " 10  HS        380 non-null    float64\n",
      " 11  AS        380 non-null    float64\n",
      " 12  HST       380 non-null    float64\n",
      " 13  AST       380 non-null    float64\n",
      " 14  HF        380 non-null    float64\n",
      " 15  AF        380 non-null    float64\n",
      " 16  HC        380 non-null    float64\n",
      " 17  AC        380 non-null    float64\n",
      " 18  HY        380 non-null    float64\n",
      " 19  AY        380 non-null    float64\n",
      " 20  HR        380 non-null    float64\n",
      " 21  AR        380 non-null    float64\n",
      "dtypes: float64(16), object(6)\n",
      "memory usage: 65.6+ KB\n"
     ]
    }
   ],
   "source": [
    "football_new.info()"
   ]
  },
  {
   "cell_type": "code",
   "execution_count": 45,
   "metadata": {},
   "outputs": [
    {
     "name": "stdout",
     "output_type": "stream",
     "text": [
      "total home goals scored in 2014-15 =  560.0\n",
      "total away goals scored in 2014-15 =  415.0\n"
     ]
    }
   ],
   "source": [
    "# chart of total home goals scored and total away goals scored\n",
    "# below is the bar plot\n",
    "total_home_goals = football_new['FTHG'].sum()\n",
    "print('total home goals scored in 2014-15 = ',total_home_goals)\n",
    "total_away_goals = football_new['FTAG'].sum()\n",
    "print('total away goals scored in 2014-15 = ',total_away_goals)"
   ]
  },
  {
   "cell_type": "markdown",
   "metadata": {},
   "source": [
    "### Chart of full time home goals vs full time away goals"
   ]
  },
  {
   "cell_type": "code",
   "execution_count": 66,
   "metadata": {},
   "outputs": [
    {
     "data": {
      "text/plain": [
       "<AxesSubplot:>"
      ]
     },
     "execution_count": 66,
     "metadata": {},
     "output_type": "execute_result"
    },
    {
     "data": {
      "image/png": "[encoded data removed]",
      "text/plain": [
       "<Figure size 432x288 with 1 Axes>"
      ]
     },
     "metadata": {
      "needs_background": "light"
     },
     "output_type": "display_data"
    }
   ],
   "source": [
    "football_new[['FTHG','FTAG']].sum().plot.bar(color = ['red', 'blue'])"
   ]
  },
  {
   "cell_type": "markdown",
   "metadata": {},
   "source": [
    "### Chart of half time home goals vs half time away goals"
   ]
  },
  {
   "cell_type": "code",
   "execution_count": 81,
   "metadata": {},
   "outputs": [
    {
     "data": {
      "text/plain": [
       "<AxesSubplot:>"
      ]
     },
     "execution_count": 81,
     "metadata": {},
     "output_type": "execute_result"
    },
    {
     "data": {
      "image/png": "[encoded data removed]",
      "text/plain": [
       "<Figure size 432x288 with 1 Axes>"
      ]
     },
     "metadata": {
      "needs_background": "light"
     },
     "output_type": "display_data"
    }
   ],
   "source": [
    "football_new[['HTHG','HTAG']].sum().plot.bar(color = ['red', 'blue'])"
   ]
  },
  {
   "cell_type": "code",
   "execution_count": 61,
   "metadata": {},
   "outputs": [
    {
     "data": {
      "text/plain": [
       "Text(0, 0.5, 'goals')"
      ]
     },
     "execution_count": 61,
     "metadata": {},
     "output_type": "execute_result"
    },
    {
     "data": {
      "image/png": "[encoded data removed]",
      "text/plain": [
       "<Figure size 432x288 with 1 Axes>"
      ]
     },
     "metadata": {
      "needs_background": "light"
     },
     "output_type": "display_data"
    }
   ],
   "source": [
    "# total home goals scored by teams of first 30 matches\n",
    "football_new['FTHG'][:30].plot.bar()\n",
    "plt.xlabel('match number')\n",
    "plt.ylabel('goals')"
   ]
  },
  {
   "cell_type": "markdown",
   "metadata": {},
   "source": [
    "### from the above plot bar we can say that least goal scored is 0 and most goals scored is 4 in first 30 matches by home team."
   ]
  },
  {
   "cell_type": "code",
   "execution_count": 57,
   "metadata": {},
   "outputs": [
    {
     "data": {
      "text/plain": [
       "Text(0, 0.5, 'goals')"
      ]
     },
     "execution_count": 57,
     "metadata": {},
     "output_type": "execute_result"
    },
    {
     "data": {
      "image/png": "[encoded data removed]",
      "text/plain": [
       "<Figure size 432x288 with 1 Axes>"
      ]
     },
     "metadata": {
      "needs_background": "light"
     },
     "output_type": "display_data"
    }
   ],
   "source": [
    "# total away goals scored by teams of first 30 matches\n",
    "football_new['FTAG'][:30].plot.bar()\n",
    "plt.xlabel('match number')\n",
    "plt.ylabel('goals')"
   ]
  },
  {
   "cell_type": "code",
   "execution_count": 67,
   "metadata": {},
   "outputs": [
    {
     "data": {
      "text/plain": [
       "<AxesSubplot:>"
      ]
     },
     "execution_count": 67,
     "metadata": {},
     "output_type": "execute_result"
    },
    {
     "data": {
      "image/png": "[encoded data removed]",
      "text/plain": [
       "<Figure size 432x288 with 1 Axes>"
      ]
     },
     "metadata": {
      "needs_background": "light"
     },
     "output_type": "display_data"
    }
   ],
   "source": [
    "football_new[['HST','AST']].sum().plot.bar()"
   ]
  },
  {
   "cell_type": "markdown",
   "metadata": {},
   "source": [
    "### by the above graph we can say that Home team is much more attacking than away team"
   ]
  },
  {
   "cell_type": "code",
   "execution_count": 73,
   "metadata": {},
   "outputs": [
    {
     "data": {
      "text/plain": [
       "<seaborn.axisgrid.FacetGrid at 0x26f4d019970>"
      ]
     },
     "execution_count": 73,
     "metadata": {},
     "output_type": "execute_result"
    },
    {
     "data": {
      "image/png": "[encoded data removed]",
      "text/plain": [
       "<Figure size 360x360 with 1 Axes>"
      ]
     },
     "metadata": {
      "needs_background": "light"
     },
     "output_type": "display_data"
    }
   ],
   "source": [
    "sns.displot(football_new['HF'], kde = 1)"
   ]
  },
  {
   "cell_type": "markdown",
   "metadata": {},
   "source": [
    "### From the above distribution plot we can say that at in more than 50 matches home team commited at least 12.5 fouls"
   ]
  },
  {
   "cell_type": "code",
   "execution_count": 74,
   "metadata": {},
   "outputs": [
    {
     "data": {
      "text/plain": [
       "<seaborn.axisgrid.FacetGrid at 0x26f4d286400>"
      ]
     },
     "execution_count": 74,
     "metadata": {},
     "output_type": "execute_result"
    },
    {
     "data": {
      "image/png": "[encoded data removed]",
      "text/plain": [
       "<Figure size 360x360 with 1 Axes>"
      ]
     },
     "metadata": {
      "needs_background": "light"
     },
     "output_type": "display_data"
    }
   ],
   "source": [
    "sns.displot(football_new['AF'], kde = 1)"
   ]
  },
  {
   "cell_type": "markdown",
   "metadata": {},
   "source": [
    "### while away teams are also commiting near by 10 fouls per game in 70 matches.\n",
    "### by this we can infer that both home and away teams are were playing offensive games during 14-15 season."
   ]
  },
  {
   "cell_type": "code",
   "execution_count": 77,
   "metadata": {},
   "outputs": [
    {
     "data": {
      "text/plain": [
       "FTR\n",
       "A    415.0\n",
       "D    389.0\n",
       "H    991.0\n",
       "Name: HST, dtype: float64"
      ]
     },
     "execution_count": 77,
     "metadata": {},
     "output_type": "execute_result"
    }
   ],
   "source": [
    "slices = football_new.groupby('FTR')['HST'].sum()\n",
    "slices"
   ]
  },
  {
   "cell_type": "code",
   "execution_count": 80,
   "metadata": {},
   "outputs": [
    {
     "data": {
      "text/plain": [
       "<matplotlib.legend.Legend at 0x26f4ff16f40>"
      ]
     },
     "execution_count": 80,
     "metadata": {},
     "output_type": "execute_result"
    },
    {
     "data": {
      "image/png": "[encoded data removed]",
      "text/plain": [
       "<Figure size 432x288 with 1 Axes>"
      ]
     },
     "metadata": {},
     "output_type": "display_data"
    }
   ],
   "source": [
    "## Maplotlib - pie plot\n",
    "cols = ['b','y','g']\n",
    "FTR = slices.index\n",
    "\n",
    "plt.pie(slices,\n",
    "        labels = FTR,\n",
    "        colors = cols,\n",
    "        startangle = 90,\n",
    "        shadow = True,\n",
    "        explode = (0,0,0.1),\n",
    "        autopct = \"%1.1f%%\")\n",
    "\n",
    "plt.title('shots on target with respect to sull time result')\n",
    "plt.legend()"
   ]
  },
  {
   "cell_type": "markdown",
   "metadata": {},
   "source": [
    "### We can clearly see that home team has more shots on target and they are winning too. By this we can clearly infer that\n",
    "### home team are much more of a dominating side when they play at home."
   ]
  },
  {
   "cell_type": "code",
   "execution_count": null,
   "metadata": {},
   "outputs": [],
   "source": []
  }
 ],
 "metadata": {
  "kernelspec": {
   "display_name": "Python 3",
   "language": "python",
   "name": "python3"
  },
  "language_info": {
   "codemirror_mode": {
    "name": "ipython",
    "version": 3
   },
   "file_extension": ".py",
   "mimetype": "text/x-python",
   "name": "python",
   "nbconvert_exporter": "python",
   "pygments_lexer": "ipython3",
   "version": "3.8.5"
  },
  "toc": {
   "base_numbering": 1,
   "nav_menu": {},
   "number_sections": false,
   "sideBar": false,
   "skip_h1_title": false,
   "title_cell": "Table of Contents",
   "title_sidebar": "Contents",
   "toc_cell": false,
   "toc_position": {},
   "toc_section_display": false,
   "toc_window_display": false
  }
 },
 "nbformat": 4,
 "nbformat_minor": 4
}
